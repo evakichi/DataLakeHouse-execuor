{
 "cells": [
  {
   "cell_type": "code",
   "execution_count": 1,
   "id": "1184faea-3b75-4fa8-8358-a1ce713e3c40",
   "metadata": {},
   "outputs": [
    {
     "name": "stderr",
     "output_type": "stream",
     "text": [
      "Setting default log level to \"WARN\".\n",
      "To adjust logging level use sc.setLogLevel(newLevel). For SparkR, use setLogLevel(newLevel).\n",
      "25/06/22 18:33:28 WARN NativeCodeLoader: Unable to load native-hadoop library for your platform... using builtin-java classes where applicable\n",
      "25/06/22 18:33:34 WARN JdbcCatalog: JDBC catalog is initialized without view support. To auto-migrate the database's schema and enable view support, set jdbc.schema-version=V1\n",
      "                                                                                "
     ]
    }
   ],
   "source": [
    "from  pyspark.sql import SparkSession, DataFrame\n",
    "from pyspark.sql.types import DoubleType, FloatType, LongType, StructType,StructField, StringType\n",
    "\n",
    "spark = SparkSession.builder.getOrCreate()\n",
    "\n",
    "schema = StructType([\n",
    "  StructField(\"id\", LongType(), True),\n",
    "  StructField(\"vendor_id\", LongType(), True),\n",
    "  StructField(\"trip_id\", LongType(), True),\n",
    "  StructField(\"trip_distance\", FloatType(), True),\n",
    "  StructField(\"fare_amount\", DoubleType(), True),\n",
    "  StructField(\"store_and_fwd_flag\", StringType(), True)\n",
    "])\n",
    "\n",
    "df = spark.createDataFrame([], schema)\n",
    "df.writeTo(\"demo.nyc.taxis00003\").create()"
   ]
  },
  {
   "cell_type": "code",
   "execution_count": null,
   "id": "e445711c-a82c-4757-8dee-fe0c75b15f79",
   "metadata": {},
   "outputs": [],
   "source": []
  },
  {
   "cell_type": "code",
   "execution_count": null,
   "id": "210fc4cc-cd12-4ad4-bafd-575a37c8a4c4",
   "metadata": {},
   "outputs": [],
   "source": []
  }
 ],
 "metadata": {
  "kernelspec": {
   "display_name": "Python 3 (ipykernel)",
   "language": "python",
   "name": "python3"
  },
  "language_info": {
   "codemirror_mode": {
    "name": "ipython",
    "version": 3
   },
   "file_extension": ".py",
   "mimetype": "text/x-python",
   "name": "python",
   "nbconvert_exporter": "python",
   "pygments_lexer": "ipython3",
   "version": "3.9.2"
  }
 },
 "nbformat": 4,
 "nbformat_minor": 5
}
