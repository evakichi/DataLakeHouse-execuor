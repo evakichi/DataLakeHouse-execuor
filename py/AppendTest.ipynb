{
 "cells": [
  {
   "cell_type": "code",
   "execution_count": 4,
   "id": "f0139f16-c87d-4860-8fa6-82d3d4b7fef3",
   "metadata": {},
   "outputs": [],
   "source": [
    "from  pyspark.sql import SparkSession, DataFrame\n",
    "from pyspark.sql.types import DoubleType, FloatType, LongType, StructType,StructField, StringType\n",
    "\n",
    "spark = SparkSession.builder.getOrCreate()\n",
    "schema = spark.table(\"demo.nyc.taxis00003\").schema\n",
    "data = [\n",
    "    (1,1, 1000371, 1.8, 15.32, \"N\"),\n",
    "    (2,2, 1000372, 2.5, 22.15, \"N\"),\n",
    "    (3,2, 1000373, 0.9, 9.01, \"N\"),\n",
    "    (4,1, 1000374, 8.4, 42.13, \"Y\")\n",
    "  ]\n",
    "df = spark.createDataFrame(data, schema)\n",
    "df.writeTo(\"demo.nyc.taxis00003\").append()"
   ]
  },
  {
   "cell_type": "code",
   "execution_count": null,
   "id": "132a1e9b-1ad8-47c6-bf8e-5fd42ea2c40e",
   "metadata": {},
   "outputs": [],
   "source": []
  }
 ],
 "metadata": {
  "kernelspec": {
   "display_name": "Python 3 (ipykernel)",
   "language": "python",
   "name": "python3"
  },
  "language_info": {
   "codemirror_mode": {
    "name": "ipython",
    "version": 3
   },
   "file_extension": ".py",
   "mimetype": "text/x-python",
   "name": "python",
   "nbconvert_exporter": "python",
   "pygments_lexer": "ipython3",
   "version": "3.9.2"
  }
 },
 "nbformat": 4,
 "nbformat_minor": 5
}
